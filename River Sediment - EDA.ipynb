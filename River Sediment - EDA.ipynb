{
 "cells": [
  {
   "cell_type": "markdown",
   "metadata": {},
   "source": [
    "# River Sediment Data - Exploratory Data Analysis (EDA)\n",
    "\n",
    "The original dataset was collected by Nez Perce-Clearwater National Forest personnel in northern Idaho, and stored, with sediment calculations, in Excel. \n",
    "\n",
    "This dataset includes more than three decades of sediment data for a single waterway in the Nez Perce-Clearwater National Forest.\n",
    "\n",
    "See the **_River Sediment Data - Raw Data Import_** notebook for the process of importing the data from Excel into the CSV file loaded in this notebook.  \n",
    "\n",
    "This notebook examines dataset statistics, correlations and assumptions in preparation for data analysis and predictive modeling.\n",
    "\n",
    "\n",
    "Dataset processing and analysis by Laura Williams. \n",
    "\n",
    "NOTE:  Laura Williams is not a Forest Service employee, and this data processing and analysis are not necessarily the analysis nor opinion of the US Forest Service."
   ]
  },
  {
   "cell_type": "code",
   "execution_count": 1,
   "metadata": {},
   "outputs": [],
   "source": [
    "# import packages\n",
    "%matplotlib inline\n",
    "import pandas as pd\n",
    "import numpy as np\n",
    "import datetime as dt\n",
    "import matplotlib.pyplot as plt\n",
    "import seaborn as sns"
   ]
  },
  {
   "cell_type": "markdown",
   "metadata": {},
   "source": [
    "## Load data"
   ]
  },
  {
   "cell_type": "code",
   "execution_count": 2,
   "metadata": {},
   "outputs": [],
   "source": [
    "filename = 'Data/sed_data_full.csv'\n",
    "sed_data = pd.read_csv(filename, \n",
    "                       encoding='UTF-8', \n",
    "                       index_col='Date_Collected_yyyy-mm-dd',\n",
    "                       parse_dates = ['Date_Collected_yyyy-mm-dd'])"
   ]
  },
  {
   "cell_type": "code",
   "execution_count": 3,
   "metadata": {},
   "outputs": [
    {
     "name": "stdout",
     "output_type": "stream",
     "text": [
      "Rows: 2697 Columns: 11\n"
     ]
    }
   ],
   "source": [
    "print(\"Rows:\", sed_data.shape[0], \"Columns:\", sed_data.shape[1])"
   ]
  },
  {
   "cell_type": "code",
   "execution_count": 4,
   "metadata": {},
   "outputs": [
    {
     "data": {
      "text/html": [
       "<div>\n",
       "<style scoped>\n",
       "    .dataframe tbody tr th:only-of-type {\n",
       "        vertical-align: middle;\n",
       "    }\n",
       "\n",
       "    .dataframe tbody tr th {\n",
       "        vertical-align: top;\n",
       "    }\n",
       "\n",
       "    .dataframe thead th {\n",
       "        text-align: right;\n",
       "    }\n",
       "</style>\n",
       "<table border=\"1\" class=\"dataframe\">\n",
       "  <thead>\n",
       "    <tr style=\"text-align: right;\">\n",
       "      <th></th>\n",
       "      <th>Sample_Frequency_Hrs</th>\n",
       "      <th>Filter_Tar_(B)_grams_(g)</th>\n",
       "      <th>Filter_Sed_(A)_grams_(g)</th>\n",
       "      <th>Sediment_grams_(g)</th>\n",
       "      <th>Sediment_Calc_grams_(g)</th>\n",
       "      <th>Sediment_Check_(Good/Bad)(±5%)</th>\n",
       "      <th>Volume_Milliliters_(ml)</th>\n",
       "      <th>Sedload_mg/l</th>\n",
       "      <th>Sedload_Calc_mg/l</th>\n",
       "      <th>Sedload_Check_(Good/Bad)(±5%)</th>\n",
       "      <th>Nephelometric_Turbidity_Units_(NTU)</th>\n",
       "    </tr>\n",
       "    <tr>\n",
       "      <th>Date_Collected_yyyy-mm-dd</th>\n",
       "      <th></th>\n",
       "      <th></th>\n",
       "      <th></th>\n",
       "      <th></th>\n",
       "      <th></th>\n",
       "      <th></th>\n",
       "      <th></th>\n",
       "      <th></th>\n",
       "      <th></th>\n",
       "      <th></th>\n",
       "      <th></th>\n",
       "    </tr>\n",
       "  </thead>\n",
       "  <tbody>\n",
       "    <tr>\n",
       "      <th>1983-04-01</th>\n",
       "      <td>NaN</td>\n",
       "      <td>0.1104</td>\n",
       "      <td>0.1108</td>\n",
       "      <td>0.0004</td>\n",
       "      <td>0.0004</td>\n",
       "      <td>True</td>\n",
       "      <td>339.0</td>\n",
       "      <td>1.1799</td>\n",
       "      <td>1.1800</td>\n",
       "      <td>True</td>\n",
       "      <td>NaN</td>\n",
       "    </tr>\n",
       "    <tr>\n",
       "      <th>1983-04-02</th>\n",
       "      <td>NaN</td>\n",
       "      <td>0.1119</td>\n",
       "      <td>0.1123</td>\n",
       "      <td>0.0004</td>\n",
       "      <td>0.0004</td>\n",
       "      <td>True</td>\n",
       "      <td>337.0</td>\n",
       "      <td>1.1869</td>\n",
       "      <td>1.1870</td>\n",
       "      <td>True</td>\n",
       "      <td>NaN</td>\n",
       "    </tr>\n",
       "    <tr>\n",
       "      <th>1983-04-03</th>\n",
       "      <td>NaN</td>\n",
       "      <td>0.1118</td>\n",
       "      <td>0.1121</td>\n",
       "      <td>0.0003</td>\n",
       "      <td>0.0003</td>\n",
       "      <td>True</td>\n",
       "      <td>338.0</td>\n",
       "      <td>0.8876</td>\n",
       "      <td>0.8876</td>\n",
       "      <td>True</td>\n",
       "      <td>NaN</td>\n",
       "    </tr>\n",
       "    <tr>\n",
       "      <th>1983-04-04</th>\n",
       "      <td>NaN</td>\n",
       "      <td>0.1106</td>\n",
       "      <td>0.1185</td>\n",
       "      <td>0.0079</td>\n",
       "      <td>0.0079</td>\n",
       "      <td>True</td>\n",
       "      <td>185.0</td>\n",
       "      <td>42.7027</td>\n",
       "      <td>42.7000</td>\n",
       "      <td>True</td>\n",
       "      <td>NaN</td>\n",
       "    </tr>\n",
       "    <tr>\n",
       "      <th>1983-04-05</th>\n",
       "      <td>NaN</td>\n",
       "      <td>0.1089</td>\n",
       "      <td>0.1099</td>\n",
       "      <td>0.0010</td>\n",
       "      <td>0.0010</td>\n",
       "      <td>True</td>\n",
       "      <td>206.0</td>\n",
       "      <td>4.8544</td>\n",
       "      <td>4.8540</td>\n",
       "      <td>True</td>\n",
       "      <td>NaN</td>\n",
       "    </tr>\n",
       "  </tbody>\n",
       "</table>\n",
       "</div>"
      ],
      "text/plain": [
       "                           Sample_Frequency_Hrs  Filter_Tar_(B)_grams_(g)  \\\n",
       "Date_Collected_yyyy-mm-dd                                                   \n",
       "1983-04-01                                  NaN                    0.1104   \n",
       "1983-04-02                                  NaN                    0.1119   \n",
       "1983-04-03                                  NaN                    0.1118   \n",
       "1983-04-04                                  NaN                    0.1106   \n",
       "1983-04-05                                  NaN                    0.1089   \n",
       "\n",
       "                           Filter_Sed_(A)_grams_(g)  Sediment_grams_(g)  \\\n",
       "Date_Collected_yyyy-mm-dd                                                 \n",
       "1983-04-01                                   0.1108              0.0004   \n",
       "1983-04-02                                   0.1123              0.0004   \n",
       "1983-04-03                                   0.1121              0.0003   \n",
       "1983-04-04                                   0.1185              0.0079   \n",
       "1983-04-05                                   0.1099              0.0010   \n",
       "\n",
       "                           Sediment_Calc_grams_(g)  \\\n",
       "Date_Collected_yyyy-mm-dd                            \n",
       "1983-04-01                                  0.0004   \n",
       "1983-04-02                                  0.0004   \n",
       "1983-04-03                                  0.0003   \n",
       "1983-04-04                                  0.0079   \n",
       "1983-04-05                                  0.0010   \n",
       "\n",
       "                           Sediment_Check_(Good/Bad)(±5%)  \\\n",
       "Date_Collected_yyyy-mm-dd                                   \n",
       "1983-04-01                                           True   \n",
       "1983-04-02                                           True   \n",
       "1983-04-03                                           True   \n",
       "1983-04-04                                           True   \n",
       "1983-04-05                                           True   \n",
       "\n",
       "                           Volume_Milliliters_(ml)  Sedload_mg/l  \\\n",
       "Date_Collected_yyyy-mm-dd                                          \n",
       "1983-04-01                                   339.0        1.1799   \n",
       "1983-04-02                                   337.0        1.1869   \n",
       "1983-04-03                                   338.0        0.8876   \n",
       "1983-04-04                                   185.0       42.7027   \n",
       "1983-04-05                                   206.0        4.8544   \n",
       "\n",
       "                           Sedload_Calc_mg/l  Sedload_Check_(Good/Bad)(±5%)  \\\n",
       "Date_Collected_yyyy-mm-dd                                                     \n",
       "1983-04-01                            1.1800                           True   \n",
       "1983-04-02                            1.1870                           True   \n",
       "1983-04-03                            0.8876                           True   \n",
       "1983-04-04                           42.7000                           True   \n",
       "1983-04-05                            4.8540                           True   \n",
       "\n",
       "                           Nephelometric_Turbidity_Units_(NTU)  \n",
       "Date_Collected_yyyy-mm-dd                                       \n",
       "1983-04-01                                                 NaN  \n",
       "1983-04-02                                                 NaN  \n",
       "1983-04-03                                                 NaN  \n",
       "1983-04-04                                                 NaN  \n",
       "1983-04-05                                                 NaN  "
      ]
     },
     "execution_count": 4,
     "metadata": {},
     "output_type": "execute_result"
    }
   ],
   "source": [
    "sed_data.head()"
   ]
  },
  {
   "cell_type": "code",
   "execution_count": 5,
   "metadata": {},
   "outputs": [
    {
     "name": "stdout",
     "output_type": "stream",
     "text": [
      "Confirm data types are correct (compare with data saved in Raw Data Import notebook):\n",
      "Index data type:\n",
      "datetime64[ns] \n",
      "\n",
      "Column data types:\n",
      "Sample_Frequency_Hrs                   float64\n",
      "Filter_Tar_(B)_grams_(g)               float64\n",
      "Filter_Sed_(A)_grams_(g)               float64\n",
      "Sediment_grams_(g)                     float64\n",
      "Sediment_Calc_grams_(g)                float64\n",
      "Sediment_Check_(Good/Bad)(±5%)            bool\n",
      "Volume_Milliliters_(ml)                float64\n",
      "Sedload_mg/l                           float64\n",
      "Sedload_Calc_mg/l                      float64\n",
      "Sedload_Check_(Good/Bad)(±5%)             bool\n",
      "Nephelometric_Turbidity_Units_(NTU)    float64\n",
      "dtype: object\n"
     ]
    }
   ],
   "source": [
    "print(\"Confirm data types are correct (compare with data saved in Raw Data Import notebook):\")\n",
    "print(\"Index data type:\")\n",
    "print(sed_data.index.dtype, '\\n')\n",
    "print(\"Column data types:\")\n",
    "print(sed_data.dtypes)"
   ]
  },
  {
   "cell_type": "markdown",
   "metadata": {},
   "source": [
    "## Summary statistics and variable exploration"
   ]
  },
  {
   "cell_type": "markdown",
   "metadata": {},
   "source": [
    "###  Examine the index of sample collection dates"
   ]
  },
  {
   "cell_type": "code",
   "execution_count": 6,
   "metadata": {},
   "outputs": [
    {
     "name": "stdout",
     "output_type": "stream",
     "text": [
      "Are all dates in the index unique?\n",
      "False\n"
     ]
    }
   ],
   "source": [
    "print(\"Are all dates in the index unique?\")\n",
    "print(sed_data.index.is_unique)"
   ]
  },
  {
   "cell_type": "code",
   "execution_count": 7,
   "metadata": {},
   "outputs": [
    {
     "name": "stdout",
     "output_type": "stream",
     "text": [
      "Number of rows in the dataset: 2697\n",
      "Number of unique dates in the index: 2402\n"
     ]
    }
   ],
   "source": [
    "print(\"Number of rows in the dataset:\", sed_data.shape[0])\n",
    "print(\"Number of unique dates in the index:\", len(sed_data.index.unique()))"
   ]
  },
  {
   "cell_type": "code",
   "execution_count": 8,
   "metadata": {},
   "outputs": [
    {
     "name": "stdout",
     "output_type": "stream",
     "text": [
      "The number of dates that have more than one collection sample recorded is:\n",
      "187\n"
     ]
    }
   ],
   "source": [
    "all_multiples = sed_data[sed_data.index.duplicated(keep=False)==True]\n",
    "print(\"The number of dates that have more than one collection sample recorded is:\")\n",
    "print(len(all_multiples.index.unique()))"
   ]
  },
  {
   "cell_type": "code",
   "execution_count": 9,
   "metadata": {},
   "outputs": [
    {
     "name": "stdout",
     "output_type": "stream",
     "text": [
      "The number of samples collected on the same day do not have data for Sample_Frequency_Hrs is:\n"
     ]
    },
    {
     "data": {
      "text/plain": [
       "202"
      ]
     },
     "execution_count": 9,
     "metadata": {},
     "output_type": "execute_result"
    }
   ],
   "source": [
    "print(\"The number of samples collected on the same day do not have data for Sample_Frequency_Hrs is:\")\n",
    "all_multiples['Sample_Frequency_Hrs'].isna().sum()\n"
   ]
  },
  {
   "cell_type": "markdown",
   "metadata": {},
   "source": [
    "**Discussion:**  \n",
    "Data confirms that sometimes multiple water samples are collected on the same date, which is expected during and immediately after rain and storm events, when sediment concentration is expected to be changing quickly.\n",
    "\n",
    "Not all samples collected on the same date have recorded the frequency in hours between samples (as `Sample_Frequency_Hrs`).  It may be necessary to infer hourly frequency values for some data analysis.  "
   ]
  },
  {
   "cell_type": "markdown",
   "metadata": {},
   "source": [
    "### Examine the range of each variable."
   ]
  },
  {
   "cell_type": "code",
   "execution_count": 10,
   "metadata": {},
   "outputs": [
    {
     "name": "stdout",
     "output_type": "stream",
     "text": [
      "Variable Name                               Minimum Value      Maximum Value \n",
      "Date_Collected_yyyy-mm-dd                   April 01, 1983     June 26, 2015 \n",
      "Sample_Frequency_Hrs                             6.0                6.0      \n",
      "Filter_Tar_(B)_grams_(g)                       0.00853            1.6705     \n",
      "Filter_Sed_(A)_grams_(g)                        0.0254            1.7453     \n",
      "Sediment_grams_(g)                              0.0001            0.6976     \n",
      "Sediment_Calc_grams_(g)                  -0.5939000000000001      0.6976     \n",
      "Sediment_Check_(Good/Bad)(±5%)                    0                  1       \n",
      "Volume_Milliliters_(ml)                          30.0             1900.0     \n",
      "Sedload_mg/l                                    0.1333           6407727.0   \n",
      "Sedload_Calc_mg/l                               -802.6            1575.0     \n",
      "Sedload_Check_(Good/Bad)(±5%)                     0                  1       \n",
      "Nephelometric_Turbidity_Units_(NTU)              0.01              44.5      \n"
     ]
    }
   ],
   "source": [
    "cols = sed_data.columns.tolist()\n",
    "print('{0:<40} {1:^20} {2:^15}'.format('Variable Name', 'Minimum Value', \"Maximum Value\"))\n",
    "# Data Index\n",
    "print('{0:<40} {1:^20} {2:^15}'.format(sed_data.index.name, \n",
    "                                       min(sed_data.index).strftime('%B %d, %Y'), \n",
    "                                       max(sed_data.index).strftime('%B %d, %Y')\n",
    "                                      ))\n",
    "# Each column\n",
    "for i in range(len(cols)):\n",
    "    print('{0:<40} {1:^20} {2:^15}'.format(cols[i], sed_data[cols[i]].min(), sed_data[cols[i]].max()))"
   ]
  },
  {
   "cell_type": "markdown",
   "metadata": {},
   "source": [
    "**Discussion:**  \n",
    "`Sediment_Calc_grams_(g)` and `Sedload_Calc_mg/l` negative values are inaccurate, the lowest value for sediment measurement is zero.\n",
    "\n",
    "The presence of zeros (the numerical equivalent of False) in the `Sediment_Check_(Good/Bad)(±5%)` and `Sedload_Check_(Good/Bad)(±5%)` columns indicate that some calculation checks are bad, which could result in the out of range negative calculations found above.  "
   ]
  },
  {
   "cell_type": "markdown",
   "metadata": {},
   "source": [
    "Examine and remove all rows with either one or both bad calculation checks and evalutate impact to dataset:"
   ]
  },
  {
   "cell_type": "code",
   "execution_count": 11,
   "metadata": {},
   "outputs": [
    {
     "name": "stdout",
     "output_type": "stream",
     "text": [
      "Number of samples with bad Sediment_Check_(Good/Bad)(±5%): 57\n",
      "Number of samples with bad Sedload_Check_(Good/Bad)(±5%)': 77\n"
     ]
    }
   ],
   "source": [
    "bads_sed = sed_data[sed_data['Sediment_Check_(Good/Bad)(±5%)'] == 0]\n",
    "bads_sedload = sed_data[sed_data['Sedload_Check_(Good/Bad)(±5%)'] == 0]\n",
    "print(\"Number of samples with bad Sediment_Check_(Good/Bad)(±5%):\", bads_sed.shape[0])\n",
    "print(\"Number of samples with bad Sedload_Check_(Good/Bad)(±5%)':\", bads_sedload.shape[0])"
   ]
  },
  {
   "cell_type": "code",
   "execution_count": 12,
   "metadata": {},
   "outputs": [],
   "source": [
    "with_bad = sed_data.shape[0]\n",
    "sed_data = sed_data[(sed_data['Sediment_Check_(Good/Bad)(±5%)'] == 1) & \n",
    "                    (sed_data['Sedload_Check_(Good/Bad)(±5%)'] == 1)]\n",
    "without_bad = sed_data.shape[0]"
   ]
  },
  {
   "cell_type": "code",
   "execution_count": 13,
   "metadata": {},
   "outputs": [
    {
     "name": "stdout",
     "output_type": "stream",
     "text": [
      "Number of data points removed: 81\n",
      "Percent of total dataset removed: 3.0033%\n"
     ]
    }
   ],
   "source": [
    "print(\"Number of data points removed:\", with_bad-without_bad)\n",
    "print(\"Percent of total dataset removed:\", str(round(((with_bad-without_bad)/with_bad)*100, 4)) + '%')"
   ]
  },
  {
   "cell_type": "code",
   "execution_count": 14,
   "metadata": {},
   "outputs": [],
   "source": [
    "# To review all rows with bad calculations, uncomment the following lines\n",
    "#pd.set_option('display.max_rows', 100)\n",
    "#pd.concat([bads_sedload, bads_sed]).drop_duplicates()"
   ]
  },
  {
   "cell_type": "code",
   "execution_count": 15,
   "metadata": {},
   "outputs": [
    {
     "name": "stdout",
     "output_type": "stream",
     "text": [
      "Variable Name                               Minimum Value      Maximum Value \n",
      "Date_Collected_yyyy-mm-dd                   April 01, 1983     June 26, 2015 \n",
      "Sample_Frequency_Hrs                             6.0                6.0      \n",
      "Filter_Tar_(B)_grams_(g)                        0.0232            1.5141     \n",
      "Filter_Sed_(A)_grams_(g)                        0.0254            1.7453     \n",
      "Sediment_grams_(g)                              0.0001            0.6976     \n",
      "Sediment_Calc_grams_(g)                  9.9999999999989e-05      0.6976     \n",
      "Sediment_Check_(Good/Bad)(±5%)                    1                  1       \n",
      "Volume_Milliliters_(ml)                          30.0             1900.0     \n",
      "Sedload_mg/l                                     0.2             1574.7178   \n",
      "Sedload_Calc_mg/l                                0.2              1575.0     \n",
      "Sedload_Check_(Good/Bad)(±5%)                     1                  1       \n",
      "Nephelometric_Turbidity_Units_(NTU)              0.01              44.5      \n"
     ]
    }
   ],
   "source": [
    "print('{0:<40} {1:^20} {2:^15}'.format('Variable Name', 'Minimum Value', \"Maximum Value\"))\n",
    "# Data Index\n",
    "print('{0:<40} {1:^20} {2:^15}'.format(sed_data.index.name, \n",
    "                                       min(sed_data.index).strftime('%B %d, %Y'), \n",
    "                                       max(sed_data.index).strftime('%B %d, %Y')\n",
    "                                      ))\n",
    "# Each column\n",
    "for i in range(len(cols)):\n",
    "    print('{0:<40} {1:^20} {2:^15}'.format(cols[i], sed_data[cols[i]].min(), sed_data[cols[i]].max()))"
   ]
  },
  {
   "cell_type": "markdown",
   "metadata": {},
   "source": [
    "**Discussion:**  \n",
    "Removing 3% of the dataset to examine overall summary statistics is acceptable.  However, the sample size per year is small (average of 100 samples each year), and some rows have one bad calcuation, but not both.  For data analysis of data subsets (such as a year or a storm event) where only one of the `Sediment` or `Sedload` calculations are used, it is recommended to remove only the rows with bad calculations that are relevent to that data analysis. \n",
    "\n",
    "Ideally, a hydrologist with domain experience should review the variable ranges above after the bad data was removed to confirm they are as expected.\n",
    "\n",
    "Additionally, a hydrologist could review the datapoints with bad calculations and assess if it's possible to correct the calculations to approve including some or all of those data points in the dataset."
   ]
  },
  {
   "cell_type": "markdown",
   "metadata": {},
   "source": [
    "### Look for missing data"
   ]
  },
  {
   "cell_type": "code",
   "execution_count": 16,
   "metadata": {},
   "outputs": [
    {
     "name": "stdout",
     "output_type": "stream",
     "text": [
      "Variable Name                            Total Samples with Missing Data\n",
      "Date_Collected_yyyy-mm-dd                              0               \n",
      "Sample_Frequency_Hrs                                  825              \n",
      "Filter_Tar_(B)_grams_(g)                               34              \n",
      "Filter_Sed_(A)_grams_(g)                               34              \n",
      "Sediment_grams_(g)                                     0               \n",
      "Sediment_Calc_grams_(g)                                0               \n",
      "Sediment_Check_(Good/Bad)(±5%)                         0               \n",
      "Volume_Milliliters_(ml)                                0               \n",
      "Sedload_mg/l                                           0               \n",
      "Sedload_Calc_mg/l                                      0               \n",
      "Sedload_Check_(Good/Bad)(±5%)                          0               \n",
      "Nephelometric_Turbidity_Units_(NTU)                   677              \n"
     ]
    }
   ],
   "source": [
    "print('{0:<40} {1:^30}'.format('Variable Name', 'Total Samples with Missing Data'))\n",
    "# Data Index\n",
    "print('{0:<40} {1:^30}'.format(sed_data.index.name, \n",
    "                               pd.isnull(sed_data.index).sum()\n",
    "                              ))\n",
    "# Each column\n",
    "for i in range(len(cols)):\n",
    "    print('{0:<40} {1:^30}'.format(cols[i], pd.isnull(sed_data[cols[i]]).sum()))"
   ]
  },
  {
   "cell_type": "markdown",
   "metadata": {},
   "source": [
    "**Discussion:**  \n",
    "* The absence of `Sample_Frequency_Hrs` may require inference for dates for which multiple samples were collected in one day.  This value is not relevant for dates on which only one sample was collected.\n",
    "* `Filter_Tar_(B)_grams_(g)` and `Filter_Sed_(A)_grams_(g)` are used to calcuate `Sediment_grams_(g)`.  It's unclear why those values would be absent, though perhaps they were simply omitted through oversight. Any data analysis not including these two values can ignore that these missing values exist, unless review of those data points indicates otherwise.\n",
    "* `Nephelometric_Turbidity_Units_(NTU)` is a measurement by a device that was not used to measure all samples.  This does not impact other variables."
   ]
  },
  {
   "cell_type": "markdown",
   "metadata": {},
   "source": [
    "Metadata for each variable, as defined in the original Excel spreadsheet, with this data listed below:  \n",
    "* **Date_Collected_yyyy-mm-dd**: Date the sample was collected\n",
    "* **Sample_Frequency_Hrs**: The frequency at which the sample was collected\n",
    "* **Filter_Tar_(B)_grams_(g)**: The weight of the fluid sample after filtering\n",
    "* **Filter_Sed_(A)_grams_(g)**: The weight of the fluid sample after filtering plus the filtered sediment\n",
    "* **Sediment_grams_(g):** The documented weight of the sediment calculated from the fluid minus the fluid w/ sediment\n",
    "* **Sediment_Calc_grams_(g):** The excel calculated weight of the sediment calculated from the fluid minus the fluid w/ sediment\n",
    "* **Sediment_Check_(Good/Bad)(±5%):** The automatic check that examines if the sediment_grams field is the same as the sediment_calc_grams, and identifes it as good or bad, indicating if the values were same within +- 5% or not the same.\n",
    "* **Volume_Milliliters_(ml):** The amount of water in each sample bottle that was tested\n",
    "* **Sedload_mg/l:** The calculated and documented sediment load for each sample bottle\n",
    "* **Sedload_Calc_mg/l:** The excel calculated sediment load for each sample bottle\n",
    "* **Sedload_Check_(Good/Bad)(±5%):** The automatic check that examines if the Sedload field is the same as the Sedload_Calc grams, and identifes it as good or bad, indicating if the values were same within +- 5% or not the same.\n",
    "* **Nephelometric_Turbidity_Units_(NTU):** The device reading that indicates the Nephelometric Turbidity Units"
   ]
  },
  {
   "cell_type": "markdown",
   "metadata": {},
   "source": [
    "### Explore summary statistics of numerical variables"
   ]
  },
  {
   "cell_type": "code",
   "execution_count": 17,
   "metadata": {},
   "outputs": [],
   "source": [
    "numeric_cols = ['Sample_Frequency_Hrs', 'Filter_Tar_(B)_grams_(g)', 'Filter_Sed_(A)_grams_(g)', 'Sediment_grams_(g)',\n",
    "               'Sediment_Calc_grams_(g)', 'Volume_Milliliters_(ml)', 'Sedload_mg/l', 'Sedload_Calc_mg/l', \n",
    "               'Nephelometric_Turbidity_Units_(NTU)']"
   ]
  },
  {
   "cell_type": "code",
   "execution_count": 18,
   "metadata": {},
   "outputs": [
    {
     "data": {
      "text/html": [
       "<div>\n",
       "<style scoped>\n",
       "    .dataframe tbody tr th:only-of-type {\n",
       "        vertical-align: middle;\n",
       "    }\n",
       "\n",
       "    .dataframe tbody tr th {\n",
       "        vertical-align: top;\n",
       "    }\n",
       "\n",
       "    .dataframe thead th {\n",
       "        text-align: right;\n",
       "    }\n",
       "</style>\n",
       "<table border=\"1\" class=\"dataframe\">\n",
       "  <thead>\n",
       "    <tr style=\"text-align: right;\">\n",
       "      <th></th>\n",
       "      <th>Sample_Frequency_Hrs</th>\n",
       "      <th>Filter_Tar_(B)_grams_(g)</th>\n",
       "      <th>Filter_Sed_(A)_grams_(g)</th>\n",
       "      <th>Sediment_grams_(g)</th>\n",
       "      <th>Sediment_Calc_grams_(g)</th>\n",
       "      <th>Volume_Milliliters_(ml)</th>\n",
       "      <th>Sedload_mg/l</th>\n",
       "      <th>Sedload_Calc_mg/l</th>\n",
       "      <th>Nephelometric_Turbidity_Units_(NTU)</th>\n",
       "    </tr>\n",
       "  </thead>\n",
       "  <tbody>\n",
       "    <tr>\n",
       "      <th>count</th>\n",
       "      <td>1791.0</td>\n",
       "      <td>2582.000000</td>\n",
       "      <td>2582.000000</td>\n",
       "      <td>2616.000000</td>\n",
       "      <td>2616.000000</td>\n",
       "      <td>2616.000000</td>\n",
       "      <td>2616.000000</td>\n",
       "      <td>2616.000000</td>\n",
       "      <td>1939.000000</td>\n",
       "    </tr>\n",
       "    <tr>\n",
       "      <th>mean</th>\n",
       "      <td>6.0</td>\n",
       "      <td>0.284502</td>\n",
       "      <td>0.290244</td>\n",
       "      <td>0.005683</td>\n",
       "      <td>0.005684</td>\n",
       "      <td>406.075306</td>\n",
       "      <td>14.423927</td>\n",
       "      <td>14.419520</td>\n",
       "      <td>2.115050</td>\n",
       "    </tr>\n",
       "    <tr>\n",
       "      <th>std</th>\n",
       "      <td>0.0</td>\n",
       "      <td>0.395867</td>\n",
       "      <td>0.398428</td>\n",
       "      <td>0.020291</td>\n",
       "      <td>0.020300</td>\n",
       "      <td>133.151226</td>\n",
       "      <td>45.493395</td>\n",
       "      <td>45.476643</td>\n",
       "      <td>2.443522</td>\n",
       "    </tr>\n",
       "    <tr>\n",
       "      <th>min</th>\n",
       "      <td>6.0</td>\n",
       "      <td>0.023200</td>\n",
       "      <td>0.025400</td>\n",
       "      <td>0.000100</td>\n",
       "      <td>0.000100</td>\n",
       "      <td>30.000000</td>\n",
       "      <td>0.200000</td>\n",
       "      <td>0.200000</td>\n",
       "      <td>0.010000</td>\n",
       "    </tr>\n",
       "    <tr>\n",
       "      <th>25%</th>\n",
       "      <td>6.0</td>\n",
       "      <td>0.083100</td>\n",
       "      <td>0.085300</td>\n",
       "      <td>0.001200</td>\n",
       "      <td>0.001200</td>\n",
       "      <td>354.750000</td>\n",
       "      <td>3.160000</td>\n",
       "      <td>3.158000</td>\n",
       "      <td>1.000000</td>\n",
       "    </tr>\n",
       "    <tr>\n",
       "      <th>50%</th>\n",
       "      <td>6.0</td>\n",
       "      <td>0.085700</td>\n",
       "      <td>0.092550</td>\n",
       "      <td>0.002300</td>\n",
       "      <td>0.002300</td>\n",
       "      <td>400.000000</td>\n",
       "      <td>5.779050</td>\n",
       "      <td>5.776000</td>\n",
       "      <td>1.460000</td>\n",
       "    </tr>\n",
       "    <tr>\n",
       "      <th>75%</th>\n",
       "      <td>6.0</td>\n",
       "      <td>0.215075</td>\n",
       "      <td>0.217275</td>\n",
       "      <td>0.004700</td>\n",
       "      <td>0.004700</td>\n",
       "      <td>450.000000</td>\n",
       "      <td>12.261750</td>\n",
       "      <td>12.250000</td>\n",
       "      <td>2.395000</td>\n",
       "    </tr>\n",
       "    <tr>\n",
       "      <th>max</th>\n",
       "      <td>6.0</td>\n",
       "      <td>1.514100</td>\n",
       "      <td>1.745300</td>\n",
       "      <td>0.697600</td>\n",
       "      <td>0.697600</td>\n",
       "      <td>1900.000000</td>\n",
       "      <td>1574.717800</td>\n",
       "      <td>1575.000000</td>\n",
       "      <td>44.500000</td>\n",
       "    </tr>\n",
       "  </tbody>\n",
       "</table>\n",
       "</div>"
      ],
      "text/plain": [
       "       Sample_Frequency_Hrs  Filter_Tar_(B)_grams_(g)  \\\n",
       "count                1791.0               2582.000000   \n",
       "mean                    6.0                  0.284502   \n",
       "std                     0.0                  0.395867   \n",
       "min                     6.0                  0.023200   \n",
       "25%                     6.0                  0.083100   \n",
       "50%                     6.0                  0.085700   \n",
       "75%                     6.0                  0.215075   \n",
       "max                     6.0                  1.514100   \n",
       "\n",
       "       Filter_Sed_(A)_grams_(g)  Sediment_grams_(g)  Sediment_Calc_grams_(g)  \\\n",
       "count               2582.000000         2616.000000              2616.000000   \n",
       "mean                   0.290244            0.005683                 0.005684   \n",
       "std                    0.398428            0.020291                 0.020300   \n",
       "min                    0.025400            0.000100                 0.000100   \n",
       "25%                    0.085300            0.001200                 0.001200   \n",
       "50%                    0.092550            0.002300                 0.002300   \n",
       "75%                    0.217275            0.004700                 0.004700   \n",
       "max                    1.745300            0.697600                 0.697600   \n",
       "\n",
       "       Volume_Milliliters_(ml)  Sedload_mg/l  Sedload_Calc_mg/l  \\\n",
       "count              2616.000000   2616.000000        2616.000000   \n",
       "mean                406.075306     14.423927          14.419520   \n",
       "std                 133.151226     45.493395          45.476643   \n",
       "min                  30.000000      0.200000           0.200000   \n",
       "25%                 354.750000      3.160000           3.158000   \n",
       "50%                 400.000000      5.779050           5.776000   \n",
       "75%                 450.000000     12.261750          12.250000   \n",
       "max                1900.000000   1574.717800        1575.000000   \n",
       "\n",
       "       Nephelometric_Turbidity_Units_(NTU)  \n",
       "count                          1939.000000  \n",
       "mean                              2.115050  \n",
       "std                               2.443522  \n",
       "min                               0.010000  \n",
       "25%                               1.000000  \n",
       "50%                               1.460000  \n",
       "75%                               2.395000  \n",
       "max                              44.500000  "
      ]
     },
     "execution_count": 18,
     "metadata": {},
     "output_type": "execute_result"
    }
   ],
   "source": [
    "sed_data[numeric_cols].describe()"
   ]
  },
  {
   "cell_type": "markdown",
   "metadata": {},
   "source": [
    "**Discussion:**  \n",
    "Summary statistics do not look unusual, a hydrologist familiar with the data should review to confirm that nothing these summary statistics indicates potential bad data."
   ]
  },
  {
   "cell_type": "markdown",
   "metadata": {},
   "source": [
    "### Are  numeric variables normally distributed?\n",
    "Visual distribution shown on log scale for visual clarity"
   ]
  },
  {
   "cell_type": "code",
   "execution_count": 19,
   "metadata": {},
   "outputs": [
    {
     "data": {
      "image/png": "[encoded data removed]",
      "text/plain": [
       "<Figure size 1080x1080 with 9 Axes>"
      ]
     },
     "metadata": {
      "needs_background": "light"
     },
     "output_type": "display_data"
    }
   ],
   "source": [
    "fig = plt.figure(figsize = (15,15)) \n",
    "for i in range(len(numeric_cols)):\n",
    "    ax = fig.add_subplot(3, 3, i+1)\n",
    "    ax.hist(sed_data[numeric_cols[i]].dropna(), log=True,  color='teal')\n",
    "    ax.spines[\"top\"].set_visible(False)\n",
    "    ax.spines[\"right\"].set_visible(False)\n",
    "    ax.spines[\"left\"].set_visible(False)\n",
    "    ax.yaxis.set_ticks_position('none')\n",
    "    ax.set_yticklabels('')\n",
    "    ax.set_xlabel(numeric_cols[i])"
   ]
  },
  {
   "cell_type": "markdown",
   "metadata": {},
   "source": [
    "Numeric mean, median and mode of each variable:"
   ]
  },
  {
   "cell_type": "code",
   "execution_count": 20,
   "metadata": {},
   "outputs": [
    {
     "name": "stdout",
     "output_type": "stream",
     "text": [
      "Variable Name                              Mean          Median      Mode   \n",
      "Sample_Frequency_Hrs                      6.0000000000     6.0000     6.0000\n",
      "Filter_Tar_(B)_grams_(g)                  0.2845021301     0.0857     0.0844\n",
      "Filter_Sed_(A)_grams_(g)                  0.2902441518     0.0925     0.0858\n",
      "Sediment_grams_(g)                        0.0056826261     0.0023     0.0012\n",
      "Sediment_Calc_grams_(g)                   0.0056843272     0.0023     0.0015\n",
      "Volume_Milliliters_(ml)                 406.0753058104   400.0000   390.0000\n",
      "Sedload_mg/l                             14.4239273777     5.7790     5.0000\n",
      "Sedload_Calc_mg/l                        14.4195199924     5.7760     5.0000\n",
      "Nephelometric_Turbidity_Units_(NTU)       2.1150504384     1.4600     1.0000\n"
     ]
    }
   ],
   "source": [
    "print('{0:<35} {1:^18} {2:^10} {3:^10}'.format('Variable Name', 'Mean', 'Median', 'Mode'))\n",
    "for i in range(len(numeric_cols)):\n",
    "    print('{0:<35} {1:>18.10f} {2:>10.4f} {3:>10.4f}'.format(numeric_cols[i], \n",
    "                                                   sed_data[numeric_cols[i]].mean(), \n",
    "                                                   sed_data[numeric_cols[i]].median(),\n",
    "                                                   float(sed_data[numeric_cols[i]].mode()) \\\n",
    "                                          ))\n"
   ]
  },
  {
   "cell_type": "markdown",
   "metadata": {},
   "source": [
    "**Discussion:**  \n",
    "\n",
    "Visual and numerical data confirm that data is not normally distributed.  This is expected given that waterways typically have a lower base sediment load for most days of the year, and significantly higher and widely variable sediment loads immediately after significant storm or rain events.  \n",
    "\n",
    "The median and mode for the sediment and sediment load variables in particular are closer together in value than the mean, which also points to outlier measurements from storms that would be expected to influence the mean more than the median or the mode.  \n",
    "\n",
    "Non-parametric statistical tests may be best for analysis and predictive models. Outliers, which are essential to interpreting this dataset, can make regression or other parametric analyses less accurate."
   ]
  },
  {
   "cell_type": "markdown",
   "metadata": {},
   "source": [
    "### Correlations between variables"
   ]
  },
  {
   "cell_type": "code",
   "execution_count": 21,
   "metadata": {},
   "outputs": [
    {
     "data": {
      "image/png": "[encoded data removed]",
      "text/plain": [
       "<Figure size 648x504 with 2 Axes>"
      ]
     },
     "metadata": {
      "needs_background": "light"
     },
     "output_type": "display_data"
    }
   ],
   "source": [
    "# remove non-relevant sample_frequency_hours variable\n",
    "corr_cols = numeric_cols.copy()\n",
    "corr_cols.remove('Sample_Frequency_Hrs')\n",
    "correlation_matrix=sed_data[corr_cols].corr(method='spearman')\n",
    "# plot heatmap for correlations\n",
    "def heatmap(matrix):\n",
    "    plt.figure(figsize=(9,7))\n",
    "    mask = np.tril(np.ones_like(matrix))\n",
    "    sns.heatmap(matrix, mask=mask, cmap=\"GnBu\") \n",
    "    plt.title(\"Correlations between numeric variables in sediment data\")\n",
    "    plt.show()\n",
    "heatmap(correlation_matrix)\n",
    "\n",
    "# figsize=(8,6)"
   ]
  },
  {
   "cell_type": "code",
   "execution_count": 22,
   "metadata": {},
   "outputs": [],
   "source": [
    "# create list of correlated pairs\n",
    "correlations=[]\n",
    "for i in correlation_matrix.index:\n",
    "    for j in correlation_matrix.columns:\n",
    "            if i!=j:\n",
    "                correlations.append((i,j,correlation_matrix[i][j]))"
   ]
  },
  {
   "cell_type": "code",
   "execution_count": 23,
   "metadata": {},
   "outputs": [
    {
     "name": "stdout",
     "output_type": "stream",
     "text": [
      "Highly Positive Correlations: \n",
      "\n",
      "First Variable                      Second Variable                     Correlation Between Variables\n",
      "Sedload_mg/l                        Sedload_Calc_mg/l                   0.9999949300219428  \n",
      "Sediment_grams_(g)                  Sediment_Calc_grams_(g)             0.9999071275132436  \n",
      "Filter_Tar_(B)_grams_(g)            Filter_Sed_(A)_grams_(g)            0.95620006321012    \n",
      "Sediment_grams_(g)                  Sedload_Calc_mg/l                   0.9435347013752658  \n",
      "Sediment_grams_(g)                  Sedload_mg/l                        0.9435133723908613  \n",
      "Sediment_Calc_grams_(g)             Sedload_Calc_mg/l                   0.943462604456805   \n",
      "Sediment_Calc_grams_(g)             Sedload_mg/l                        0.9434406384399405  \n",
      "Sedload_Calc_mg/l                   Nephelometric_Turbidity_Units_(NTU) 0.502304671784149   \n",
      "Sedload_mg/l                        Nephelometric_Turbidity_Units_(NTU) 0.5022695122391416  \n"
     ]
    }
   ],
   "source": [
    "# print sorted list of highest positive correlations\n",
    "positive_corr = [i for i in correlations if i[2] >= 0.5]\n",
    "pos_sort=sorted(positive_corr,reverse=True,key=lambda k: k[2])\n",
    "print('Highly Positive Correlations: \\n')\n",
    "print('{0:<35} {1:<35} {2:<20}'.format('First Variable', 'Second Variable', \"Correlation Between Variables\"))\n",
    "for i in range(len(pos_sort)):\n",
    "    # print only every other correlation to avoid listing duplicates\n",
    "    if i%2 == 0:\n",
    "        print('{0:<35} {1:<35} {2:<20}'.format(pos_sort[i][0], pos_sort[i][1], pos_sort[i][2]))"
   ]
  },
  {
   "cell_type": "markdown",
   "metadata": {},
   "source": [
    "**Discussion:**  \n",
    "\n",
    "There are no unexpected variable correlations. Correlations between Sediment and Sediment Load measurements and calculations are expected to be high.  Sediment load and NTU measurements are expected to be somewhat correlated, but long-term averages of these two variables are less likely to be highly correlated than during storm events.\n",
    "\n",
    "A hydrologist should review the correlations to confirm they are as expected.\n",
    "\n",
    "Non-parametric Spearman correlation test was used to evaluate correlations. The Spearman test is not adversely affected by outliers and is the most common alternative to the Pearson correlation when data is not normally distributed. "
   ]
  },
  {
   "cell_type": "markdown",
   "metadata": {},
   "source": [
    "### Explore seasonal trends"
   ]
  },
  {
   "cell_type": "code",
   "execution_count": 24,
   "metadata": {},
   "outputs": [],
   "source": [
    "month_trend = pd.DataFrame(sed_data.groupby(sed_data.index.month)['Sedload_mg/l'].mean())"
   ]
  },
  {
   "cell_type": "code",
   "execution_count": 25,
   "metadata": {},
   "outputs": [],
   "source": [
    "x_tick_labels = ['Mar', 'Apr', 'May', 'Jun', 'Jul', 'Aug', 'Sep', 'Oct', 'Nov']\n",
    "titledict = {'fontsize': 'x-large',\n",
    "             'fontweight': 'ultralight',\n",
    "             'color': 'black',\n",
    "             'verticalalignment': 'baseline',\n",
    "             'horizontalalignment': 'center'}"
   ]
  },
  {
   "cell_type": "code",
   "execution_count": 26,
   "metadata": {},
   "outputs": [
    {
     "data": {
      "image/png": "[encoded data removed]",
      "text/plain": [
       "<Figure size 432x288 with 1 Axes>"
      ]
     },
     "metadata": {
      "needs_background": "light"
     },
     "output_type": "display_data"
    }
   ],
   "source": [
    "fig_monthly = plt.figure()\n",
    "ax = fig_monthly.add_subplot(1, 1, 1)\n",
    "ax.plot(month_trend, color='darkcyan', linewidth=3.0)\n",
    "ax.spines[\"top\"].set_visible(False)\n",
    "ax.spines[\"right\"].set_visible(False)\n",
    "ax.spines[\"left\"].set_visible(False)\n",
    "ax.set_yticks([])\n",
    "ax.set_xticks(month_trend.index)\n",
    "ax.set_xticklabels(x_tick_labels)\n",
    "ax.set_title('Average Sediment Load per Month\\n1983-2015', fontdict=titledict, pad=20)\n",
    "plt.show()"
   ]
  },
  {
   "cell_type": "markdown",
   "metadata": {},
   "source": [
    "**Discussion:**  \n",
    "The average sediment load over the course of each year is expected to rise substantially with snowmelt in late spring and early summer as is shown here.\n",
    "\n",
    "No data were collected during winter months of December, January, or February for any years in this dataset.  This is presumably a standard operating procedure given that waterways may be frozen, unreachable due to snow, and that flow and sediment loads are not expected to change substantially during winter months.\n",
    "\n",
    "\n",
    "**NEXT**: It would be interesting to look at this trend over time - either in bins of years, or individual months over time.  The small sample size of data for each year may result in higher variability per year than is useful for drawing conclusions, in which case bins of years may work best for data analysis.  "
   ]
  },
  {
   "cell_type": "markdown",
   "metadata": {},
   "source": [
    "### More exploratory data analysis to come"
   ]
  }
 ],
 "metadata": {
  "kernelspec": {
   "display_name": "Python 3",
   "language": "python",
   "name": "python3"
  },
  "language_info": {
   "codemirror_mode": {
    "name": "ipython",
    "version": 3
   },
   "file_extension": ".py",
   "mimetype": "text/x-python",
   "name": "python",
   "nbconvert_exporter": "python",
   "pygments_lexer": "ipython3",
   "version": "3.7.7"
  }
 },
 "nbformat": 4,
 "nbformat_minor": 4
}
